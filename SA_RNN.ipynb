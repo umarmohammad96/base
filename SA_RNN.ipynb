{
  "nbformat": 4,
  "nbformat_minor": 0,
  "metadata": {
    "colab": {
      "provenance": [],
      "mount_file_id": "15AUIsxFxozhcX-qhbzw-6YqNNI5kr6ll",
      "authorship_tag": "ABX9TyPy9P8nzGb15vm+sPUOVW+F",
      "include_colab_link": true
    },
    "kernelspec": {
      "name": "python3",
      "display_name": "Python 3"
    },
    "language_info": {
      "name": "python"
    }
  },
  "cells": [
    {
      "cell_type": "markdown",
      "metadata": {
        "id": "view-in-github",
        "colab_type": "text"
      },
      "source": [
        "<a href=\"https://colab.research.google.com/github/umarmohammad96/base/blob/main/SA_RNN.ipynb\" target=\"_parent\"><img src=\"https://colab.research.google.com/assets/colab-badge.svg\" alt=\"Open In Colab\"/></a>"
      ]
    },
    {
      "cell_type": "code",
      "source": [
        "import pandas as pd\n",
        "import numpy as np\n",
        "from keras.models import load_model\n",
        "from keras.preprocessing.text import Tokenizer\n",
        "from keras.preprocessing.sequence import pad_sequences\n",
        "\n",
        "# Load the dataset\n",
        "dataset = pd.read_excel('/content/drive/MyDrive/Colab Notebooks/dataset.csv.xlsx')\n",
        "\n",
        "# Load tokenizer\n",
        "tokenizer = Tokenizer()\n",
        "tokenizer.fit_on_texts(dataset['Review'])\n",
        "\n",
        "# Load the pre-trained model\n",
        "model = load_model('/content/drive/MyDrive/Colab Notebooks/sentiment_analysis_model.h5')\n",
        "\n",
        "# Function to predict sentiment\n",
        "def predict_sentiment(sentence):\n",
        "    sequence = tokenizer.texts_to_sequences([sentence])\n",
        "    padded_sequence = pad_sequences(sequence, maxlen=100)\n",
        "    prediction = model.predict(padded_sequence)[0][0]\n",
        "    score = prediction if prediction > 0.5 else 1 - prediction\n",
        "    sentiment = \"positive\" if prediction > 0.5 else \"negative\"\n",
        "    return sentiment, score\n",
        "\n",
        "# Take input sentence from the user\n",
        "sentence = input(\"Enter a sentence: \")\n",
        "\n",
        "# Predict sentiment and score\n",
        "predicted_sentiment, score = predict_sentiment(sentence)\n",
        "print(\"Predicted sentiment:\", predicted_sentiment)\n",
        "print(\"Score:\", score)\n"
      ],
      "metadata": {
        "colab": {
          "base_uri": "https://localhost:8080/"
        },
        "id": "STUlNSarMAvm",
        "outputId": "9ad1c308-36c9-4326-de32-1f30b78fc053"
      },
      "execution_count": 6,
      "outputs": [
        {
          "name": "stdout",
          "output_type": "stream",
          "text": [
            "Enter a sentence: poor quality\n"
          ]
        },
        {
          "output_type": "stream",
          "name": "stderr",
          "text": [
            "WARNING:tensorflow:5 out of the last 5 calls to <function Model.make_predict_function.<locals>.predict_function at 0x7cb53bbdd990> triggered tf.function retracing. Tracing is expensive and the excessive number of tracings could be due to (1) creating @tf.function repeatedly in a loop, (2) passing tensors with different shapes, (3) passing Python objects instead of tensors. For (1), please define your @tf.function outside of the loop. For (2), @tf.function has reduce_retracing=True option that can avoid unnecessary retracing. For (3), please refer to https://www.tensorflow.org/guide/function#controlling_retracing and https://www.tensorflow.org/api_docs/python/tf/function for  more details.\n"
          ]
        },
        {
          "output_type": "stream",
          "name": "stdout",
          "text": [
            "1/1 [==============================] - 0s 402ms/step\n",
            "Predicted sentiment: negative\n",
            "Score: 0.8004769086837769\n"
          ]
        }
      ]
    },
    {
      "cell_type": "code",
      "source": [],
      "metadata": {
        "id": "MD5YVN3eMG2g"
      },
      "execution_count": null,
      "outputs": []
    }
  ]
}