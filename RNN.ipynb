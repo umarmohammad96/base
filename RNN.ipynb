{
  "nbformat": 4,
  "nbformat_minor": 0,
  "metadata": {
    "colab": {
      "provenance": [],
      "authorship_tag": "ABX9TyO+0JGuDnG5D5p44nitBTAI",
      "include_colab_link": true
    },
    "kernelspec": {
      "name": "python3",
      "display_name": "Python 3"
    },
    "language_info": {
      "name": "python"
    }
  },
  "cells": [
    {
      "cell_type": "markdown",
      "metadata": {
        "id": "view-in-github",
        "colab_type": "text"
      },
      "source": [
        "<a href=\"https://colab.research.google.com/github/umarmohammad96/base/blob/main/RNN.ipynb\" target=\"_parent\"><img src=\"https://colab.research.google.com/assets/colab-badge.svg\" alt=\"Open In Colab\"/></a>"
      ]
    },
    {
      "cell_type": "code",
      "execution_count": 1,
      "metadata": {
        "colab": {
          "base_uri": "https://localhost:8080/"
        },
        "id": "dT5dSgekO0hi",
        "outputId": "fe8ee96f-0a02-4551-8254-f0f43cbd2559"
      },
      "outputs": [
        {
          "output_type": "stream",
          "name": "stdout",
          "text": [
            "Epoch 1/50\n",
            "1/1 - 1s - loss: 2.4729 - accuracy: 0.1000 - 1s/epoch - 1s/step\n",
            "Epoch 2/50\n",
            "1/1 - 0s - loss: 2.3892 - accuracy: 0.2000 - 8ms/epoch - 8ms/step\n",
            "Epoch 3/50\n",
            "1/1 - 0s - loss: 2.3094 - accuracy: 0.5000 - 7ms/epoch - 7ms/step\n",
            "Epoch 4/50\n",
            "1/1 - 0s - loss: 2.2306 - accuracy: 0.5000 - 6ms/epoch - 6ms/step\n",
            "Epoch 5/50\n",
            "1/1 - 0s - loss: 2.1513 - accuracy: 0.5000 - 7ms/epoch - 7ms/step\n",
            "Epoch 6/50\n",
            "1/1 - 0s - loss: 2.0712 - accuracy: 0.4000 - 6ms/epoch - 6ms/step\n",
            "Epoch 7/50\n",
            "1/1 - 0s - loss: 1.9906 - accuracy: 0.4000 - 7ms/epoch - 7ms/step\n",
            "Epoch 8/50\n",
            "1/1 - 0s - loss: 1.9107 - accuracy: 0.4000 - 6ms/epoch - 6ms/step\n",
            "Epoch 9/50\n",
            "1/1 - 0s - loss: 1.8319 - accuracy: 0.4000 - 6ms/epoch - 6ms/step\n",
            "Epoch 10/50\n",
            "1/1 - 0s - loss: 1.7540 - accuracy: 0.4000 - 6ms/epoch - 6ms/step\n",
            "Epoch 11/50\n",
            "1/1 - 0s - loss: 1.6765 - accuracy: 0.4000 - 7ms/epoch - 7ms/step\n",
            "Epoch 12/50\n",
            "1/1 - 0s - loss: 1.6002 - accuracy: 0.4000 - 6ms/epoch - 6ms/step\n",
            "Epoch 13/50\n",
            "1/1 - 0s - loss: 1.5277 - accuracy: 0.4000 - 6ms/epoch - 6ms/step\n",
            "Epoch 14/50\n",
            "1/1 - 0s - loss: 1.4611 - accuracy: 0.6000 - 6ms/epoch - 6ms/step\n",
            "Epoch 15/50\n",
            "1/1 - 0s - loss: 1.4002 - accuracy: 0.7000 - 6ms/epoch - 6ms/step\n",
            "Epoch 16/50\n",
            "1/1 - 0s - loss: 1.3435 - accuracy: 0.7000 - 10ms/epoch - 10ms/step\n",
            "Epoch 17/50\n",
            "1/1 - 0s - loss: 1.2895 - accuracy: 0.7000 - 6ms/epoch - 6ms/step\n",
            "Epoch 18/50\n",
            "1/1 - 0s - loss: 1.2378 - accuracy: 0.7000 - 6ms/epoch - 6ms/step\n",
            "Epoch 19/50\n",
            "1/1 - 0s - loss: 1.1877 - accuracy: 0.7000 - 6ms/epoch - 6ms/step\n",
            "Epoch 20/50\n",
            "1/1 - 0s - loss: 1.1388 - accuracy: 0.7000 - 7ms/epoch - 7ms/step\n",
            "Epoch 21/50\n",
            "1/1 - 0s - loss: 1.0912 - accuracy: 0.7000 - 6ms/epoch - 6ms/step\n",
            "Epoch 22/50\n",
            "1/1 - 0s - loss: 1.0454 - accuracy: 0.7000 - 9ms/epoch - 9ms/step\n",
            "Epoch 23/50\n",
            "1/1 - 0s - loss: 1.0013 - accuracy: 0.7000 - 7ms/epoch - 7ms/step\n",
            "Epoch 24/50\n",
            "1/1 - 0s - loss: 0.9580 - accuracy: 0.7000 - 7ms/epoch - 7ms/step\n",
            "Epoch 25/50\n",
            "1/1 - 0s - loss: 0.9150 - accuracy: 0.7000 - 7ms/epoch - 7ms/step\n",
            "Epoch 26/50\n",
            "1/1 - 0s - loss: 0.8732 - accuracy: 0.7000 - 7ms/epoch - 7ms/step\n",
            "Epoch 27/50\n",
            "1/1 - 0s - loss: 0.8334 - accuracy: 0.7000 - 8ms/epoch - 8ms/step\n",
            "Epoch 28/50\n",
            "1/1 - 0s - loss: 0.7960 - accuracy: 0.7000 - 8ms/epoch - 8ms/step\n",
            "Epoch 29/50\n",
            "1/1 - 0s - loss: 0.7609 - accuracy: 0.8000 - 7ms/epoch - 7ms/step\n",
            "Epoch 30/50\n",
            "1/1 - 0s - loss: 0.7284 - accuracy: 0.8000 - 7ms/epoch - 7ms/step\n",
            "Epoch 31/50\n",
            "1/1 - 0s - loss: 0.6988 - accuracy: 0.8000 - 8ms/epoch - 8ms/step\n",
            "Epoch 32/50\n",
            "1/1 - 0s - loss: 0.6720 - accuracy: 0.8000 - 8ms/epoch - 8ms/step\n",
            "Epoch 33/50\n",
            "1/1 - 0s - loss: 0.6477 - accuracy: 0.8000 - 8ms/epoch - 8ms/step\n",
            "Epoch 34/50\n",
            "1/1 - 0s - loss: 0.6256 - accuracy: 0.8000 - 7ms/epoch - 7ms/step\n",
            "Epoch 35/50\n",
            "1/1 - 0s - loss: 0.6054 - accuracy: 0.8000 - 8ms/epoch - 8ms/step\n",
            "Epoch 36/50\n",
            "1/1 - 0s - loss: 0.5867 - accuracy: 0.8000 - 7ms/epoch - 7ms/step\n",
            "Epoch 37/50\n",
            "1/1 - 0s - loss: 0.5693 - accuracy: 0.8000 - 7ms/epoch - 7ms/step\n",
            "Epoch 38/50\n",
            "1/1 - 0s - loss: 0.5531 - accuracy: 0.8000 - 7ms/epoch - 7ms/step\n",
            "Epoch 39/50\n",
            "1/1 - 0s - loss: 0.5378 - accuracy: 0.8000 - 8ms/epoch - 8ms/step\n",
            "Epoch 40/50\n",
            "1/1 - 0s - loss: 0.5230 - accuracy: 0.8000 - 8ms/epoch - 8ms/step\n",
            "Epoch 41/50\n",
            "1/1 - 0s - loss: 0.5091 - accuracy: 0.8000 - 11ms/epoch - 11ms/step\n",
            "Epoch 42/50\n",
            "1/1 - 0s - loss: 0.4958 - accuracy: 0.8000 - 10ms/epoch - 10ms/step\n",
            "Epoch 43/50\n",
            "1/1 - 0s - loss: 0.4831 - accuracy: 0.8000 - 9ms/epoch - 9ms/step\n",
            "Epoch 44/50\n",
            "1/1 - 0s - loss: 0.4709 - accuracy: 0.8000 - 12ms/epoch - 12ms/step\n",
            "Epoch 45/50\n",
            "1/1 - 0s - loss: 0.4594 - accuracy: 0.8000 - 12ms/epoch - 12ms/step\n",
            "Epoch 46/50\n",
            "1/1 - 0s - loss: 0.4485 - accuracy: 0.8000 - 11ms/epoch - 11ms/step\n",
            "Epoch 47/50\n",
            "1/1 - 0s - loss: 0.4382 - accuracy: 0.8000 - 12ms/epoch - 12ms/step\n",
            "Epoch 48/50\n",
            "1/1 - 0s - loss: 0.4286 - accuracy: 0.8000 - 10ms/epoch - 10ms/step\n",
            "Epoch 49/50\n",
            "1/1 - 0s - loss: 0.4196 - accuracy: 0.8000 - 12ms/epoch - 12ms/step\n",
            "Epoch 50/50\n",
            "1/1 - 0s - loss: 0.4113 - accuracy: 0.8000 - 9ms/epoch - 9ms/step\n"
          ]
        },
        {
          "output_type": "execute_result",
          "data": {
            "text/plain": [
              "<keras.src.callbacks.History at 0x79e7d96dbd30>"
            ]
          },
          "metadata": {},
          "execution_count": 1
        }
      ],
      "source": [
        "import numpy as np\n",
        "from keras.models import Sequential\n",
        "from keras.layers import SimpleRNN, Dense, Embedding\n",
        "from keras.preprocessing.text import Tokenizer\n",
        "from keras.preprocessing.sequence import pad_sequences\n",
        "from keras.utils import to_categorical\n",
        "\n",
        "# Generating some example sequential data\n",
        "sentences = ['I love learning','I love python','I hate school',\n",
        "             'Recurrent Neural Networks are powerful']\n",
        "# Tokenizing the words\n",
        "tokenizer = Tokenizer()\n",
        "tokenizer.fit_on_texts(sentences)\n",
        "total_words = len(tokenizer.word_index) + 1\n",
        "\n",
        "# Creating input sequences and their corresponding next words\n",
        "input_sequences = []\n",
        "for sentence in sentences:\n",
        "    tokenized_sentence = tokenizer.texts_to_sequences([sentence])[0]\n",
        "    for i in range(1, len(tokenized_sentence)):\n",
        "        n_gram_sequence = tokenized_sentence[:i+1]\n",
        "        input_sequences.append(n_gram_sequence)\n",
        "\n",
        "# Padding sequences for consistent input size\n",
        "max_sequence_length = max([len(seq) for seq in input_sequences])\n",
        "input_sequences = pad_sequences(input_sequences, maxlen=max_sequence_length, padding='pre')\n",
        "\n",
        "# Creating input and output data\n",
        "X, y = input_sequences[:, :-1], input_sequences[:, -1]\n",
        "y = to_categorical(y, num_classes=total_words)\n",
        "\n",
        "# Building a simple RNN model\n",
        "model = Sequential()\n",
        "model.add(Embedding(input_dim=total_words, output_dim=50, input_length=max_sequence_length-1))\n",
        "model.add(SimpleRNN(100, return_sequences=True))\n",
        "model.add(SimpleRNN(100))\n",
        "model.add(Dense(total_words, activation='softmax'))\n",
        "\n",
        "# Compiling the model\n",
        "model.compile(optimizer='adam', loss='categorical_crossentropy', metrics=['accuracy'])\n",
        "\n",
        "# Training the model\n",
        "model.fit(X, y, epochs=50, verbose=2)\n",
        "\n",
        "\n"
      ]
    },
    {
      "cell_type": "code",
      "source": [
        "# Generating text using the trained model\n",
        "seed_text = input(\"Enter the starting word: \")\n",
        "next_words = int(input(\"Enter how many words to predict: \"))\n",
        "\n",
        "for _ in range(next_words):\n",
        "    tokenized_seed = tokenizer.texts_to_sequences([seed_text])[0]\n",
        "    tokenized_seed = pad_sequences([tokenized_seed], maxlen=max_sequence_length-1, padding='pre')\n",
        "    predicted_word_index = np.argmax(model.predict(tokenized_seed), axis=-1)\n",
        "    predicted_word = tokenizer.index_word[predicted_word_index[0]]\n",
        "    seed_text += \" \" + predicted_word\n",
        "\n",
        "print(seed_text)"
      ],
      "metadata": {
        "colab": {
          "base_uri": "https://localhost:8080/"
        },
        "id": "zpqce_6YP7sT",
        "outputId": "7a594b02-ae72-47e6-dd33-e2c74d5cd724"
      },
      "execution_count": 3,
      "outputs": [
        {
          "output_type": "stream",
          "name": "stdout",
          "text": [
            "Enter the starting word: i\n",
            "Enter how many words to predict: 1\n",
            "1/1 [==============================] - 0s 15ms/step\n",
            "i love\n"
          ]
        }
      ]
    }
  ]
}