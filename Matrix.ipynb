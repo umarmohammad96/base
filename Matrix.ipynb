{
  "nbformat": 4,
  "nbformat_minor": 0,
  "metadata": {
    "colab": {
      "provenance": [],
      "include_colab_link": true
    },
    "kernelspec": {
      "name": "python3",
      "display_name": "Python 3"
    },
    "language_info": {
      "name": "python"
    }
  },
  "cells": [
    {
      "cell_type": "markdown",
      "metadata": {
        "id": "view-in-github",
        "colab_type": "text"
      },
      "source": [
        "<a href=\"https://colab.research.google.com/github/umarmohammad96/base/blob/main/Matrix.ipynb\" target=\"_parent\"><img src=\"https://colab.research.google.com/assets/colab-badge.svg\" alt=\"Open In Colab\"/></a>"
      ]
    },
    {
      "cell_type": "code",
      "source": [
        "import numpy as np\n",
        "\n",
        "# creating array\n",
        "\n",
        "arr = np.array([1,2,3,4,5])\n",
        "print(arr)\n",
        "\n",
        "zeros_arr = np.zeros((3,3))\n",
        "print(zeros_arr)\n",
        "\n",
        "ones_arr = np.ones((3,3) , dtype = int)\n",
        "print(ones_arr)\n",
        "\n",
        "range_arr = np.arange(10)\n",
        "print(range_arr)\n",
        "\n",
        "#Array manuplation\n",
        "\n",
        "reshaped_arr = arr.reshape(5,1)\n",
        "print(reshaped_arr)\n",
        "\n",
        "sliced_arr = arr[2 : 4]\n",
        "print(sliced_arr)\n"
      ],
      "metadata": {
        "colab": {
          "base_uri": "https://localhost:8080/"
        },
        "id": "EOtUlztu7DYu",
        "outputId": "2c3b5a36-7560-456f-cd27-81916e984c11"
      },
      "execution_count": null,
      "outputs": [
        {
          "output_type": "stream",
          "name": "stdout",
          "text": [
            "[1 2 3 4 5]\n",
            "[[0. 0. 0.]\n",
            " [0. 0. 0.]\n",
            " [0. 0. 0.]]\n",
            "[[1 1 1]\n",
            " [1 1 1]\n",
            " [1 1 1]]\n",
            "[0 1 2 3 4 5 6 7 8 9]\n",
            "[[1]\n",
            " [2]\n",
            " [3]\n",
            " [4]\n",
            " [5]]\n",
            "[3 4]\n"
          ]
        }
      ]
    },
    {
      "cell_type": "code",
      "source": [
        "#Additon of arrays\n",
        "\n",
        "import numpy as np\n",
        "\n",
        "arr1 = np.array([1,2,3])\n",
        "\n",
        "arr2 = np.array([3,2,1])\n",
        "\n",
        "print(arr1 + arr2)\n",
        "\n",
        "c = np.vstack(arr1 + arr2)\n",
        "print(c)"
      ],
      "metadata": {
        "colab": {
          "base_uri": "https://localhost:8080/"
        },
        "id": "S_BD2O92AZEp",
        "outputId": "f043c46d-4c02-444e-f61f-379dec46c5c5"
      },
      "execution_count": null,
      "outputs": [
        {
          "output_type": "stream",
          "name": "stdout",
          "text": [
            "[4 4 4]\n",
            "[[4]\n",
            " [4]\n",
            " [4]]\n"
          ]
        }
      ]
    },
    {
      "cell_type": "code",
      "source": [
        "\n",
        "\n",
        "import numpy as np\n",
        "\n",
        "arr1 = np.array([1,2,3])\n",
        "\n",
        "arr2 = np.array([5,7,1])\n",
        "d = np.vstack(arr1 + arr2)\n",
        "print(d)\n",
        "c = np.stack(arr1 + arr2)\n",
        "print(c)"
      ],
      "metadata": {
        "colab": {
          "base_uri": "https://localhost:8080/"
        },
        "id": "NsXPuThkDTpG",
        "outputId": "93f58a2e-85b1-4271-83ad-0c09b1bf0488"
      },
      "execution_count": null,
      "outputs": [
        {
          "output_type": "stream",
          "name": "stdout",
          "text": [
            "[[6]\n",
            " [9]\n",
            " [4]]\n",
            "[6 9 4]\n"
          ]
        }
      ]
    },
    {
      "cell_type": "code",
      "source": [
        "#Broadcasting\n",
        "a = np.array([1,2,3])\n",
        "print(a+3)\n"
      ],
      "metadata": {
        "colab": {
          "base_uri": "https://localhost:8080/"
        },
        "id": "m_RuoPliB4ch",
        "outputId": "1fc1dbf8-27fd-439a-dbbc-5e3f535e699a"
      },
      "execution_count": null,
      "outputs": [
        {
          "output_type": "stream",
          "name": "stdout",
          "text": [
            "[4 5 6]\n"
          ]
        }
      ]
    },
    {
      "cell_type": "code",
      "source": [
        "#split\n",
        "import numpy as np\n",
        "\n",
        "arr1 = np.array([8,2,6,7])\n",
        "\n",
        "\n",
        "b = np.split(arr1,2)\n",
        "print(b)"
      ],
      "metadata": {
        "colab": {
          "base_uri": "https://localhost:8080/"
        },
        "id": "cPhGW21yD65Q",
        "outputId": "67158753-74cf-4535-e35f-063305631895"
      },
      "execution_count": null,
      "outputs": [
        {
          "output_type": "stream",
          "name": "stdout",
          "text": [
            "[array([8, 2]), array([6, 7])]\n"
          ]
        }
      ]
    },
    {
      "cell_type": "code",
      "source": [
        "#tranpose of matrix\n",
        "import numpy as np\n",
        "a= np.array([[1,2,3,4],[5,6,7,8]])\n",
        "b = a.T\n",
        "print(b)"
      ],
      "metadata": {
        "colab": {
          "base_uri": "https://localhost:8080/"
        },
        "id": "LlDxypzhIKv5",
        "outputId": "8539dfe2-825f-4cb3-c36b-117e16f9af3d"
      },
      "execution_count": null,
      "outputs": [
        {
          "output_type": "stream",
          "name": "stdout",
          "text": [
            "[[1 5]\n",
            " [2 6]\n",
            " [3 7]\n",
            " [4 8]]\n"
          ]
        }
      ]
    },
    {
      "cell_type": "code",
      "source": [
        "#linear algebra with numpy\n",
        "\n",
        "a = np.array([[1,2],[3,4]])\n",
        "\n",
        "brr1 = np.array([[5,7],[4,1]])\n",
        "\n",
        "c = np.dot(a,brr1)\n",
        "print(c)"
      ],
      "metadata": {
        "colab": {
          "base_uri": "https://localhost:8080/"
        },
        "id": "-9NwU8_jJfEl",
        "outputId": "20354eb2-3681-47c2-f566-913d861e135f"
      },
      "execution_count": null,
      "outputs": [
        {
          "output_type": "stream",
          "name": "stdout",
          "text": [
            "[[13  9]\n",
            " [31 25]]\n"
          ]
        }
      ]
    },
    {
      "cell_type": "code",
      "source": [
        "matrix = np.array([[1,2],[3,4]])\n",
        "b = np.array([[5,6],[7,8]])\n",
        "\n",
        "d = np.linalg.eig(matrix)\n",
        "print(d)"
      ],
      "metadata": {
        "colab": {
          "base_uri": "https://localhost:8080/"
        },
        "id": "--CgXIrCL1uM",
        "outputId": "05e41899-a354-49a6-96b4-bb1feee3e748"
      },
      "execution_count": null,
      "outputs": [
        {
          "output_type": "stream",
          "name": "stdout",
          "text": [
            "(array([-0.37228132,  5.37228132]), array([[-0.82456484, -0.41597356],\n",
            "       [ 0.56576746, -0.90937671]]))\n"
          ]
        }
      ]
    },
    {
      "cell_type": "code",
      "source": [
        "import numpy as np\n",
        "\n",
        "arr = np.array([[1,5,7],[3,6,9]])\n",
        "arrs = np.array([[1,5,7],[3,6,9]])\n",
        "\n",
        "c = np.sum(arr,axis=0)\n",
        "print(c)\n",
        "c = np.sum(arr,axis=1)\n",
        "print(c)"
      ],
      "metadata": {
        "colab": {
          "base_uri": "https://localhost:8080/"
        },
        "id": "T7nShhf-dzv8",
        "outputId": "80f5b7f9-1c02-4132-def3-bdfd25134770"
      },
      "execution_count": null,
      "outputs": [
        {
          "output_type": "stream",
          "name": "stdout",
          "text": [
            "[ 4 11 16]\n",
            "[13 18]\n"
          ]
        }
      ]
    },
    {
      "cell_type": "code",
      "source": [
        "#statitical algebra\n",
        "a = np.array([1,2,3,4,5])\n",
        "\n",
        "print(np.mean(a))\n",
        "print(np.median(a))\n",
        "print(np.var(a))\n",
        "print(np.std(a))"
      ],
      "metadata": {
        "colab": {
          "base_uri": "https://localhost:8080/"
        },
        "id": "Y-1I4d5ziuW5",
        "outputId": "10649d46-8e3a-4af9-a072-f93529954145"
      },
      "execution_count": null,
      "outputs": [
        {
          "output_type": "stream",
          "name": "stdout",
          "text": [
            "3.0\n",
            "3.0\n",
            "2.0\n",
            "1.4142135623730951\n"
          ]
        }
      ]
    },
    {
      "cell_type": "code",
      "source": [
        "#load and save of text file\n",
        "data = np.loadtxt(\"/content/mat.txt\",dtype=int)\n",
        "data = np.savetxt(\"/content/date.txt\", data)\n",
        "print(data)"
      ],
      "metadata": {
        "colab": {
          "base_uri": "https://localhost:8080/"
        },
        "id": "bLq4wF_oliFY",
        "outputId": "dc0aa8ed-9f20-477f-b47b-af483a7b46ba"
      },
      "execution_count": null,
      "outputs": [
        {
          "output_type": "stream",
          "name": "stdout",
          "text": [
            "None\n"
          ]
        }
      ]
    },
    {
      "cell_type": "code",
      "source": [
        "\n",
        "import matplotlib.pyplot as plt\n",
        "a = np.array([1,2,3,4,5,6,7,8,9,10])\n",
        "plt.plot(a)"
      ],
      "metadata": {
        "colab": {
          "base_uri": "https://localhost:8080/",
          "height": 447
        },
        "id": "C2ymiXw8sjvp",
        "outputId": "8cec27ed-6cb5-415a-b3e4-cda4316df3d6"
      },
      "execution_count": null,
      "outputs": [
        {
          "output_type": "execute_result",
          "data": {
            "text/plain": [
              "[<matplotlib.lines.Line2D at 0x7ed5f8f0d8d0>]"
            ]
          },
          "metadata": {},
          "execution_count": 23
        },
        {
          "output_type": "display_data",
          "data": {
            "text/plain": [
              "<Figure size 640x480 with 1 Axes>"
            ],
            "image/png": "[encoded data removed]"
          },
          "metadata": {}
        }
      ]
    },
    {
      "cell_type": "code",
      "source": [
        "import pandas as pd\n",
        "\n",
        "data = pd.read_excel('/content/excel.xlsx')\n",
        "print(data)\n",
        "data.to_excel('/content/excel2.xlsx')"
      ],
      "metadata": {
        "colab": {
          "base_uri": "https://localhost:8080/"
        },
        "id": "pPJP80ZZg_09",
        "outputId": "820b610c-b294-4bc0-cd93-66894fbe6d01"
      },
      "execution_count": null,
      "outputs": [
        {
          "output_type": "stream",
          "name": "stdout",
          "text": [
            "   1  2  3\n",
            "0  6  5  4\n",
            "1  7  8  9\n"
          ]
        }
      ]
    },
    {
      "cell_type": "code",
      "source": [
        "# pandas\n",
        "import pandas as pd\n",
        "\n",
        "a = [ \"Jashuva\",'Dimpu','Gafur','prasad','Ulmesh','mulkesh','sunny']\n",
        "r = pd.Series(a,index = [52,56,57,24,34,29,50])\n",
        "print(r)"
      ],
      "metadata": {
        "colab": {
          "base_uri": "https://localhost:8080/"
        },
        "id": "PULhHp2BqXNl",
        "outputId": "35bbc7de-8cda-4f37-c411-e10e6b1ae625"
      },
      "execution_count": null,
      "outputs": [
        {
          "output_type": "stream",
          "name": "stdout",
          "text": [
            "52    Jashuva\n",
            "56      Dimpu\n",
            "57      Gafur\n",
            "24     prasad\n",
            "34     Ulmesh\n",
            "29    mulkesh\n",
            "50      sunny\n",
            "dtype: object\n"
          ]
        }
      ]
    },
    {
      "cell_type": "code",
      "source": [
        "from google.colab import drive\n",
        "drive.mount('/content/drive')"
      ],
      "metadata": {
        "colab": {
          "base_uri": "https://localhost:8080/"
        },
        "id": "suRVEb_lto8m",
        "outputId": "8d1658d8-bac7-4681-b862-fa35705985a5"
      },
      "execution_count": null,
      "outputs": [
        {
          "output_type": "stream",
          "name": "stdout",
          "text": [
            "Mounted at /content/drive\n"
          ]
        }
      ]
    },
    {
      "cell_type": "code",
      "source": [
        "df = pd.read_csv(\"/content/drive/MyDrive/Colab Notebooks/netflix_revenue_updated.csv\")\n",
        "print(df)"
      ],
      "metadata": {
        "colab": {
          "base_uri": "https://localhost:8080/"
        },
        "id": "Ya2Spcp_uxp7",
        "outputId": "5db1f873-05a1-45c2-e33b-29b6ab70d024"
      },
      "execution_count": null,
      "outputs": [
        {
          "output_type": "stream",
          "name": "stdout",
          "text": [
            "          Date  Global Revenue  UCAN Streaming Revenue  \\\n",
            "0   31-03-2019      4520992000              2256851000   \n",
            "1   30-06-2019      4923116000              2501199000   \n",
            "2   30-09-2019      5244905000              2621250000   \n",
            "3   31-12-2019      5467434000              2671908000   \n",
            "4   31-03-2020      5767691000              2702776000   \n",
            "5   30-06-2020      6148286000              2839670000   \n",
            "6   30-09-2020      6435637000              2933445000   \n",
            "7   31-12-2020      6644442000              2979505000   \n",
            "8   31-03-2021      7163282000              3170972000   \n",
            "9   30-06-2021      7341777000              3234643000   \n",
            "10  30-09-2021      7483467000              3257697000   \n",
            "11  31-12-2021      7709318000              3308788000   \n",
            "12  31-03-2022      7867767000              3350424000   \n",
            "13  30-06-2022      7970141000              3537863000   \n",
            "14  30-09-2022      7925589000              3601565000   \n",
            "15  31-12-2022      7852053000              3594791000   \n",
            "16  31-03-2023      8161503000              3608645000   \n",
            "\n",
            "    EMEA Streaming Revenue  LATM Streaming Revenue  APAC Streaming Revenue  \\\n",
            "0               1233379000               630472000               319602000   \n",
            "1               1319087000               677136000               349494000   \n",
            "2               1428040000               741434000               382304000   \n",
            "3               1562561000               746392000               418121000   \n",
            "4               1723474000               793453000               483660000   \n",
            "5               1892537000               785368000               569140000   \n",
            "6               2019083000               789384000               634891000   \n",
            "7               2137158000               788522000               684609000   \n",
            "8               2343674000               836647000               762414000   \n",
            "9               2400480000               860882000               799480000   \n",
            "10              2432239000               915297000               834002000   \n",
            "11              2523426000               964150000               870705000   \n",
            "12              2561831000               998948000               916754000   \n",
            "13              2457235000              1030234000               907719000   \n",
            "14              2375814000              1023945000               889037000   \n",
            "15              2350135000              1016846000               856711000   \n",
            "16              2517641000              1070192000               933523000   \n",
            "\n",
            "    UCAN Members  EMEA  Members  LATM Members  APAC Members  UCAN ARPU  \\\n",
            "0       66633000       42542000      27547000      12141000      11.45   \n",
            "1       66501000       44229000      27890000      12942000      12.52   \n",
            "2       67114000       47355000      29380000      14485000      13.08   \n",
            "3       67662000       51778000      31417000      16233000      13.22   \n",
            "4       69969000       58734000      34318000      19835000      13.09   \n",
            "5       72904000       61483000      36068000      22492000      13.25   \n",
            "6       73081000       62242000      36324000      23504000      13.40   \n",
            "7       73936000       66698000      37537000      25492000      13.51   \n",
            "8       74384000       68508000      37894000      26853000      14.25   \n",
            "9       73951000       68696000      38658000      27875000      14.54   \n",
            "10      74024000       70500000      38988000      30051000      14.68   \n",
            "11      75215000       74036000      39961000      32632000      14.78   \n",
            "12      74579000       73733000      39610000      33719000      14.91   \n",
            "13      73283000       72966000      39624000      34799000      15.95   \n",
            "14      73387000       73534000      39936000      36228000      16.37   \n",
            "15      74296000       76729000      41699000      38023000      16.23   \n",
            "16      74398000       77373000      41249000      39478000      16.18   \n",
            "\n",
            "    EMEA ARPU  LATM  ARPU  APAC  ARPU  Netflix Streaming Memberships   \n",
            "0       10.23        7.84        9.37                       148863000  \n",
            "1       10.13        8.14        9.29                       151562000  \n",
            "2       10.40        8.63        9.29                       158334000  \n",
            "3       10.51        8.18        9.07                       167090000  \n",
            "4       10.40        8.05        8.94                       182856000  \n",
            "5       10.50        7.44        8.96                       192947000  \n",
            "6       10.88        7.27        9.20                       195151000  \n",
            "7       11.05        7.12        9.32                       203663000  \n",
            "8       11.56        7.39        9.71                       207639000  \n",
            "9       11.66        7.50        9.74                       209180000  \n",
            "10      11.65        7.86        9.60                       213563000  \n",
            "11      11.64        8.14        9.26                       221844000  \n",
            "12      11.56        8.37        9.21                       221641000  \n",
            "13      11.17        8.67        8.83                       220672000  \n",
            "14      10.81        8.58        8.34                       223085000  \n",
            "15      10.43        8.30        7.69                       230747000  \n",
            "16      10.89        8.60        8.03                       232498000  \n"
          ]
        }
      ]
    },
    {
      "cell_type": "code",
      "source": [
        "\n",
        "with open(\"/content/adele.txt\", \"r\") as file:\n",
        "    data = file.read()\n",
        "\n",
        "\n",
        "print(data)\n"
      ],
      "metadata": {
        "id": "td7Thi3pvAeC",
        "colab": {
          "base_uri": "https://localhost:8080/"
        },
        "outputId": "72c6f345-e5dd-4d6f-f5cf-210624042d55"
      },
      "execution_count": null,
      "outputs": [
        {
          "output_type": "stream",
          "name": "stdout",
          "text": [
            "Looking for some education\n",
            "Made my way into the night\n",
            "All that bullshit conversation\n",
            "Baby, can't you read the signs? I won't bore you with the details, baby\n",
            "I don't even wanna waste your time\n",
            "Let's just say that maybe\n",
            "You could help me ease my mind\n",
            "I ain't Mr. Right But if you're looking for fast love\n",
            "If that's love in your eyes\n",
            "It's more than enough\n",
            "Had some bad love\n",
            "ing it fiasco. \n"
          ]
        }
      ]
    },
    {
      "cell_type": "code",
      "source": [
        "import pandas as pd\n",
        "\n",
        "data = pd.read_excel(\"/content/drive/MyDrive/Colab Notebooks/SuicideIndiaData.xlsx\",sheet_name='Sheet1')\n",
        "print(data)\n",
        "data.head(5)\n",
        "\n"
      ],
      "metadata": {
        "colab": {
          "base_uri": "https://localhost:8080/",
          "height": 1000
        },
        "id": "ykb0bACe3ioF",
        "outputId": "623bb29d-e0fe-4fc4-cc26-18a878dc2a2f"
      },
      "execution_count": null,
      "outputs": [
        {
          "output_type": "stream",
          "name": "stdout",
          "text": [
            "                          Cause of Suicide       Gender  \\\n",
            "0                           Sleeping Pills         Male   \n",
            "1                           Sleeping Pills       Female   \n",
            "2                           Sleeping Pills  Transgender   \n",
            "3                           Sleeping Pills        Total   \n",
            "4                                 Drowning         Male   \n",
            "5                                 Drowning       Female   \n",
            "6                                 Drowning  Transgender   \n",
            "7                                 Drowning        Total   \n",
            "8                   Fire / Self-Immolation         Male   \n",
            "9                   Fire / Self-Immolation       Female   \n",
            "10                  Fire / Self-Immolation  Transgender   \n",
            "11                  Fire / Self-Immolation        Total   \n",
            "12                               Fire Arms         Male   \n",
            "13                               Fire Arms       Female   \n",
            "14                               Fire Arms  Transgender   \n",
            "15                               Fire Arms        Total   \n",
            "16                                 Hanging         Male   \n",
            "17                                 Hanging       Female   \n",
            "18                                 Hanging  Transgender   \n",
            "19                                 Hanging        Total   \n",
            "20                                  Poison         Male   \n",
            "21                                  Poison       Female   \n",
            "22                                  Poison  Transgender   \n",
            "23                                  Poison        Total   \n",
            "24                                 Jumping         Male   \n",
            "25                                 Jumping       Female   \n",
            "26                                 Jumping  Transgender   \n",
            "27                                 Jumping        Total   \n",
            "28  Coming Under Running Vehicles / Trains         Male   \n",
            "29  Coming Under Running Vehicles / Trains       Female   \n",
            "30  Coming Under Running Vehicles / Trains  Transgender   \n",
            "31  Coming Under Running Vehicles / Trains        Total   \n",
            "32             Touching Live Electric Wire         Male   \n",
            "33             Touching Live Electric Wire       Female   \n",
            "34             Touching Live Electric Wire  Transgender   \n",
            "35             Touching Live Electric Wire        Total   \n",
            "36                          By Other Means         Male   \n",
            "37                          By Other Means       Female   \n",
            "38                          By Other Means  Transgender   \n",
            "39                          By Other Means        Total   \n",
            "40                                   Total         Male   \n",
            "41                                   Total       Female   \n",
            "42                                   Total  Transgender   \n",
            "43                             Grand Total        Total   \n",
            "\n",
            "    Andaman & Nicobar Islands  Andhra Pradesh  Arunachal Pradesh  Assam  \\\n",
            "0                           0              11                  0     28   \n",
            "1                           0              11                  0     12   \n",
            "2                           0               0                  0      0   \n",
            "3                           0              22                  0     40   \n",
            "4                           2             161                  7     95   \n",
            "5                           1              86                  0     31   \n",
            "6                           0               0                  0      0   \n",
            "7                           3             247                  7    126   \n",
            "8                           1             125                  0      6   \n",
            "9                           2             149                  0      9   \n",
            "10                          0               0                  0      0   \n",
            "11                          3             274                  0     15   \n",
            "12                          0               7                  1     16   \n",
            "13                          0               5                  0     15   \n",
            "14                          0               0                  0      0   \n",
            "15                          0              12                  1     31   \n",
            "16                         99            1145                 26    847   \n",
            "17                         25             538                 26    369   \n",
            "18                          0               1                  0      0   \n",
            "19                        124            1684                 52   1216   \n",
            "20                          5            1630                  4    177   \n",
            "21                          3             889                  2     62   \n",
            "22                          0               1                  0      0   \n",
            "23                          8            2190                  6    239   \n",
            "24                          0              60                  2      2   \n",
            "25                          0               5                  0      2   \n",
            "26                          0               0                  0      0   \n",
            "27                          0              65                  2      4   \n",
            "28                          0             482                  0     43   \n",
            "29                          0              62                  0     21   \n",
            "30                          0               1                  0      0   \n",
            "31                          0             545                  0     64   \n",
            "32                          0              41                  0     18   \n",
            "33                          0              13                  0      6   \n",
            "34                          0               0                  0      0   \n",
            "35                          0              54                  0     24   \n",
            "36                          0             160                 19    353   \n",
            "37                          0              75                  2    159   \n",
            "38                          0               1                  0      0   \n",
            "39                          0             263                 21    512   \n",
            "40                        108            3838                 59   1587   \n",
            "41                         31            1512                 30    689   \n",
            "42                          0               4                  0      0   \n",
            "43                        139            5354                 89   2276   \n",
            "\n",
            "    Bihar  Chandigarh  Chhattisgarh  Dadra & Nagar Haveli  ...  Puducherry  \\\n",
            "0      10           0             7                     0  ...           0   \n",
            "1      16           0             1                     0  ...           0   \n",
            "2       0           0             0                     0  ...           0   \n",
            "3      26           0             8                     0  ...           0   \n",
            "4      12           1            18                     1  ...          68   \n",
            "5      29           0             7                     0  ...           6   \n",
            "6       0           0             0                     0  ...           0   \n",
            "7      41           1            25                     1  ...          74   \n",
            "8       6           0           128                     1  ...          10   \n",
            "9       4           0           339                     0  ...           1   \n",
            "10      0           0             0                     0  ...           0   \n",
            "11     10           0           467                     1  ...          11   \n",
            "12      0           1            11                     0  ...           0   \n",
            "13      1           0             0                     0  ...           0   \n",
            "14      0           0             0                     0  ...           0   \n",
            "15      1           1            11                     0  ...           0   \n",
            "16    105          54          2748                    42  ...          11   \n",
            "17     90          30           795                    18  ...          49   \n",
            "18      0           0             0                     0  ...           0   \n",
            "19    195          84          3543                    60  ...          60   \n",
            "20     46          21          1060                     4  ...          14   \n",
            "21     31           6           584                     7  ...           6   \n",
            "22      0           0             0                     0  ...           0   \n",
            "23     77          27          1644                    11  ...          21   \n",
            "24     12           0            56                     2  ...           0   \n",
            "25      0           0            22                     0  ...           0   \n",
            "26      0           0             0                     0  ...           0   \n",
            "27     12           0            78                     2  ...           0   \n",
            "28      0           0            95                     0  ...           0   \n",
            "29      0           0            22                     0  ...           0   \n",
            "30      0           0             0                     0  ...           0   \n",
            "31      0           0           117                     0  ...           0   \n",
            "32      2           0            21                     0  ...          12   \n",
            "33      3           0             3                     0  ...           0   \n",
            "34      0           0             0                     0  ...           0   \n",
            "35      5           0            24                     0  ...          12   \n",
            "36      3           0           257                     1  ...         141   \n",
            "37      3           0           110                     0  ...          47   \n",
            "38      0           0             0                     0  ...           0   \n",
            "39      6           0           367                     1  ...         188   \n",
            "40    196          77          4417                    50  ...         450   \n",
            "41    192          36          1895                    25  ...         131   \n",
            "42      0           0             0                     0  ...           0   \n",
            "43    388         113          6312                    75  ...         581   \n",
            "\n",
            "    Punjab  Rajasthan  Sikkim  Tamil Nadu  Telangana  Tripura  Uttar Pradesh  \\\n",
            "0       12         25       0         118          6       24             32   \n",
            "1        4          4       0          44          4        9             19   \n",
            "2        0          0       0           1          0        0              0   \n",
            "3       16         29       0         163         10       33             51   \n",
            "4       70        136       2         259        315       11             92   \n",
            "5       24         75       0         132        144        2             25   \n",
            "6        0          0       0           0          0        0              0   \n",
            "7       94        211       2         391        459       13            117   \n",
            "8        8         50       0         642         12        6            152   \n",
            "9        8         55       0         819        271       28            268   \n",
            "10       0          0       0           0          0        0              0   \n",
            "11      16        105       0        1461        283       34            420   \n",
            "12      14         10       0           3          0        6             96   \n",
            "13       2          0       0          13          0        0             77   \n",
            "14       0          0       0           0          0        0              0   \n",
            "15      16         10       0          16          0        6            173   \n",
            "16     503       1553     150        4659       1894      306           1506   \n",
            "17     178        520      51        1915        907      111           1038   \n",
            "18       0          0       0           4          0        0              0   \n",
            "19     681       2073     201        6578       2801      417           2544   \n",
            "20     200        380       0        3968       2290       95            350   \n",
            "21      71        208       0        1532        888       87            279   \n",
            "22       0          0       0           1          0        0              0   \n",
            "23     271        588       0        5501       3178      182            629   \n",
            "24       2        178       1          87        260        6             64   \n",
            "25       1         61       0          33         36        1             23   \n",
            "26       0          0       0           0          0        0              0   \n",
            "27       3        239       1         120        296        7             87   \n",
            "28     345        127       0          29        318        0             17   \n",
            "29      39         23       0           9         50        0              6   \n",
            "30       0          0       0           0          0        0              0   \n",
            "31     384        150       0          38        368        0             23   \n",
            "32       0         18       0          36          0        0             39   \n",
            "33       0          6       0           6          0        0             16   \n",
            "34       0          0       0           0          0        0              0   \n",
            "35       0         24       0          42          0        0             55   \n",
            "36       0        272       7          50        168        0            188   \n",
            "37       0        106       2          46         52        0             86   \n",
            "38       0          0       0           0          0        0              0   \n",
            "39       0        378       9          96        220        0            274   \n",
            "40    1154       2775     161        9881       5266      454           2554   \n",
            "41     327       1063      53        4572       2354      238           1872   \n",
            "42       0          0       0           6          0        0              0   \n",
            "43    1481       3838     214       14459       7320      692           4426   \n",
            "\n",
            "    Uttarakhand  West Bengal  \n",
            "0             6           47  \n",
            "1             3           23  \n",
            "2             0            0  \n",
            "3             9           70  \n",
            "4            10          395  \n",
            "5             6          114  \n",
            "6             0            0  \n",
            "7            16          509  \n",
            "8             6          113  \n",
            "9             3          496  \n",
            "10            0            0  \n",
            "11            9          609  \n",
            "12            0            0  \n",
            "13            0            0  \n",
            "14            0            0  \n",
            "15            0            0  \n",
            "16           91         3517  \n",
            "17           56         2205  \n",
            "18            0            1  \n",
            "19          147         5723  \n",
            "20           81         1631  \n",
            "21           48         1299  \n",
            "22            0            0  \n",
            "23          129         2930  \n",
            "24            8           43  \n",
            "25            2           11  \n",
            "26            0            0  \n",
            "27           10           54  \n",
            "28            0           39  \n",
            "29            0            3  \n",
            "30            0            0  \n",
            "31            0           42  \n",
            "32            0           35  \n",
            "33            0            8  \n",
            "34            0            0  \n",
            "35            0           43  \n",
            "36            7         1414  \n",
            "37            3          594  \n",
            "38            0            0  \n",
            "39           10         2008  \n",
            "40          210         7243  \n",
            "41          121         4770  \n",
            "42            0            1  \n",
            "43          331        12014  \n",
            "\n",
            "[44 rows x 38 columns]\n"
          ]
        },
        {
          "output_type": "execute_result",
          "data": {
            "text/plain": [
              "  Cause of Suicide       Gender  Andaman & Nicobar Islands  Andhra Pradesh  \\\n",
              "0   Sleeping Pills         Male                          0              11   \n",
              "1   Sleeping Pills       Female                          0              11   \n",
              "2   Sleeping Pills  Transgender                          0               0   \n",
              "3   Sleeping Pills        Total                          0              22   \n",
              "4         Drowning         Male                          2             161   \n",
              "\n",
              "   Arunachal Pradesh  Assam  Bihar  Chandigarh  Chhattisgarh  \\\n",
              "0                  0     28     10           0             7   \n",
              "1                  0     12     16           0             1   \n",
              "2                  0      0      0           0             0   \n",
              "3                  0     40     26           0             8   \n",
              "4                  7     95     12           1            18   \n",
              "\n",
              "   Dadra & Nagar Haveli  ...  Puducherry  Punjab  Rajasthan  Sikkim  \\\n",
              "0                     0  ...           0      12         25       0   \n",
              "1                     0  ...           0       4          4       0   \n",
              "2                     0  ...           0       0          0       0   \n",
              "3                     0  ...           0      16         29       0   \n",
              "4                     1  ...          68      70        136       2   \n",
              "\n",
              "   Tamil Nadu  Telangana  Tripura  Uttar Pradesh  Uttarakhand  West Bengal  \n",
              "0         118          6       24             32            6           47  \n",
              "1          44          4        9             19            3           23  \n",
              "2           1          0        0              0            0            0  \n",
              "3         163         10       33             51            9           70  \n",
              "4         259        315       11             92           10          395  \n",
              "\n",
              "[5 rows x 38 columns]"
            ],
            "text/html": [
              "\n",
              "  <div id=\"df-0b1189dd-c33c-43d6-8378-e36a438524bb\" class=\"colab-df-container\">\n",
              "    <div>\n",
              "<style scoped>\n",
              "    .dataframe tbody tr th:only-of-type {\n",
              "        vertical-align: middle;\n",
              "    }\n",
              "\n",
              "    .dataframe tbody tr th {\n",
              "        vertical-align: top;\n",
              "    }\n",
              "\n",
              "    .dataframe thead th {\n",
              "        text-align: right;\n",
              "    }\n",
              "</style>\n",
              "<table border=\"1\" class=\"dataframe\">\n",
              "  <thead>\n",
              "    <tr style=\"text-align: right;\">\n",
              "      <th></th>\n",
              "      <th>Cause of Suicide</th>\n",
              "      <th>Gender</th>\n",
              "      <th>Andaman &amp; Nicobar Islands</th>\n",
              "      <th>Andhra Pradesh</th>\n",
              "      <th>Arunachal Pradesh</th>\n",
              "      <th>Assam</th>\n",
              "      <th>Bihar</th>\n",
              "      <th>Chandigarh</th>\n",
              "      <th>Chhattisgarh</th>\n",
              "      <th>Dadra &amp; Nagar Haveli</th>\n",
              "      <th>...</th>\n",
              "      <th>Puducherry</th>\n",
              "      <th>Punjab</th>\n",
              "      <th>Rajasthan</th>\n",
              "      <th>Sikkim</th>\n",
              "      <th>Tamil Nadu</th>\n",
              "      <th>Telangana</th>\n",
              "      <th>Tripura</th>\n",
              "      <th>Uttar Pradesh</th>\n",
              "      <th>Uttarakhand</th>\n",
              "      <th>West Bengal</th>\n",
              "    </tr>\n",
              "  </thead>\n",
              "  <tbody>\n",
              "    <tr>\n",
              "      <th>0</th>\n",
              "      <td>Sleeping Pills</td>\n",
              "      <td>Male</td>\n",
              "      <td>0</td>\n",
              "      <td>11</td>\n",
              "      <td>0</td>\n",
              "      <td>28</td>\n",
              "      <td>10</td>\n",
              "      <td>0</td>\n",
              "      <td>7</td>\n",
              "      <td>0</td>\n",
              "      <td>...</td>\n",
              "      <td>0</td>\n",
              "      <td>12</td>\n",
              "      <td>25</td>\n",
              "      <td>0</td>\n",
              "      <td>118</td>\n",
              "      <td>6</td>\n",
              "      <td>24</td>\n",
              "      <td>32</td>\n",
              "      <td>6</td>\n",
              "      <td>47</td>\n",
              "    </tr>\n",
              "    <tr>\n",
              "      <th>1</th>\n",
              "      <td>Sleeping Pills</td>\n",
              "      <td>Female</td>\n",
              "      <td>0</td>\n",
              "      <td>11</td>\n",
              "      <td>0</td>\n",
              "      <td>12</td>\n",
              "      <td>16</td>\n",
              "      <td>0</td>\n",
              "      <td>1</td>\n",
              "      <td>0</td>\n",
              "      <td>...</td>\n",
              "      <td>0</td>\n",
              "      <td>4</td>\n",
              "      <td>4</td>\n",
              "      <td>0</td>\n",
              "      <td>44</td>\n",
              "      <td>4</td>\n",
              "      <td>9</td>\n",
              "      <td>19</td>\n",
              "      <td>3</td>\n",
              "      <td>23</td>\n",
              "    </tr>\n",
              "    <tr>\n",
              "      <th>2</th>\n",
              "      <td>Sleeping Pills</td>\n",
              "      <td>Transgender</td>\n",
              "      <td>0</td>\n",
              "      <td>0</td>\n",
              "      <td>0</td>\n",
              "      <td>0</td>\n",
              "      <td>0</td>\n",
              "      <td>0</td>\n",
              "      <td>0</td>\n",
              "      <td>0</td>\n",
              "      <td>...</td>\n",
              "      <td>0</td>\n",
              "      <td>0</td>\n",
              "      <td>0</td>\n",
              "      <td>0</td>\n",
              "      <td>1</td>\n",
              "      <td>0</td>\n",
              "      <td>0</td>\n",
              "      <td>0</td>\n",
              "      <td>0</td>\n",
              "      <td>0</td>\n",
              "    </tr>\n",
              "    <tr>\n",
              "      <th>3</th>\n",
              "      <td>Sleeping Pills</td>\n",
              "      <td>Total</td>\n",
              "      <td>0</td>\n",
              "      <td>22</td>\n",
              "      <td>0</td>\n",
              "      <td>40</td>\n",
              "      <td>26</td>\n",
              "      <td>0</td>\n",
              "      <td>8</td>\n",
              "      <td>0</td>\n",
              "      <td>...</td>\n",
              "      <td>0</td>\n",
              "      <td>16</td>\n",
              "      <td>29</td>\n",
              "      <td>0</td>\n",
              "      <td>163</td>\n",
              "      <td>10</td>\n",
              "      <td>33</td>\n",
              "      <td>51</td>\n",
              "      <td>9</td>\n",
              "      <td>70</td>\n",
              "    </tr>\n",
              "    <tr>\n",
              "      <th>4</th>\n",
              "      <td>Drowning</td>\n",
              "      <td>Male</td>\n",
              "      <td>2</td>\n",
              "      <td>161</td>\n",
              "      <td>7</td>\n",
              "      <td>95</td>\n",
              "      <td>12</td>\n",
              "      <td>1</td>\n",
              "      <td>18</td>\n",
              "      <td>1</td>\n",
              "      <td>...</td>\n",
              "      <td>68</td>\n",
              "      <td>70</td>\n",
              "      <td>136</td>\n",
              "      <td>2</td>\n",
              "      <td>259</td>\n",
              "      <td>315</td>\n",
              "      <td>11</td>\n",
              "      <td>92</td>\n",
              "      <td>10</td>\n",
              "      <td>395</td>\n",
              "    </tr>\n",
              "  </tbody>\n",
              "</table>\n",
              "<p>5 rows × 38 columns</p>\n",
              "</div>\n",
              "    <div class=\"colab-df-buttons\">\n",
              "\n",
              "  <div class=\"colab-df-container\">\n",
              "    <button class=\"colab-df-convert\" onclick=\"convertToInteractive('df-0b1189dd-c33c-43d6-8378-e36a438524bb')\"\n",
              "            title=\"Convert this dataframe to an interactive table.\"\n",
              "            style=\"display:none;\">\n",
              "\n",
              "  <svg xmlns=\"http://www.w3.org/2000/svg\" height=\"24px\" viewBox=\"0 -960 960 960\">\n",
              "    <path d=\"M120-120v-720h720v720H120Zm60-500h600v-160H180v160Zm220 220h160v-160H400v160Zm0 220h160v-160H400v160ZM180-400h160v-160H180v160Zm440 0h160v-160H620v160ZM180-180h160v-160H180v160Zm440 0h160v-160H620v160Z\"/>\n",
              "  </svg>\n",
              "    </button>\n",
              "\n",
              "  <style>\n",
              "    .colab-df-container {\n",
              "      display:flex;\n",
              "      gap: 12px;\n",
              "    }\n",
              "\n",
              "    .colab-df-convert {\n",
              "      background-color: #E8F0FE;\n",
              "      border: none;\n",
              "      border-radius: 50%;\n",
              "      cursor: pointer;\n",
              "      display: none;\n",
              "      fill: #1967D2;\n",
              "      height: 32px;\n",
              "      padding: 0 0 0 0;\n",
              "      width: 32px;\n",
              "    }\n",
              "\n",
              "    .colab-df-convert:hover {\n",
              "      background-color: #E2EBFA;\n",
              "      box-shadow: 0px 1px 2px rgba(60, 64, 67, 0.3), 0px 1px 3px 1px rgba(60, 64, 67, 0.15);\n",
              "      fill: #174EA6;\n",
              "    }\n",
              "\n",
              "    .colab-df-buttons div {\n",
              "      margin-bottom: 4px;\n",
              "    }\n",
              "\n",
              "    [theme=dark] .colab-df-convert {\n",
              "      background-color: #3B4455;\n",
              "      fill: #D2E3FC;\n",
              "    }\n",
              "\n",
              "    [theme=dark] .colab-df-convert:hover {\n",
              "      background-color: #434B5C;\n",
              "      box-shadow: 0px 1px 3px 1px rgba(0, 0, 0, 0.15);\n",
              "      filter: drop-shadow(0px 1px 2px rgba(0, 0, 0, 0.3));\n",
              "      fill: #FFFFFF;\n",
              "    }\n",
              "  </style>\n",
              "\n",
              "    <script>\n",
              "      const buttonEl =\n",
              "        document.querySelector('#df-0b1189dd-c33c-43d6-8378-e36a438524bb button.colab-df-convert');\n",
              "      buttonEl.style.display =\n",
              "        google.colab.kernel.accessAllowed ? 'block' : 'none';\n",
              "\n",
              "      async function convertToInteractive(key) {\n",
              "        const element = document.querySelector('#df-0b1189dd-c33c-43d6-8378-e36a438524bb');\n",
              "        const dataTable =\n",
              "          await google.colab.kernel.invokeFunction('convertToInteractive',\n",
              "                                                    [key], {});\n",
              "        if (!dataTable) return;\n",
              "\n",
              "        const docLinkHtml = 'Like what you see? Visit the ' +\n",
              "          '<a target=\"_blank\" href=https://colab.research.google.com/notebooks/data_table.ipynb>data table notebook</a>'\n",
              "          + ' to learn more about interactive tables.';\n",
              "        element.innerHTML = '';\n",
              "        dataTable['output_type'] = 'display_data';\n",
              "        await google.colab.output.renderOutput(dataTable, element);\n",
              "        const docLink = document.createElement('div');\n",
              "        docLink.innerHTML = docLinkHtml;\n",
              "        element.appendChild(docLink);\n",
              "      }\n",
              "    </script>\n",
              "  </div>\n",
              "\n",
              "\n",
              "<div id=\"df-15031f6c-14ae-4ddb-b8e1-1002515fac1f\">\n",
              "  <button class=\"colab-df-quickchart\" onclick=\"quickchart('df-15031f6c-14ae-4ddb-b8e1-1002515fac1f')\"\n",
              "            title=\"Suggest charts\"\n",
              "            style=\"display:none;\">\n",
              "\n",
              "<svg xmlns=\"http://www.w3.org/2000/svg\" height=\"24px\"viewBox=\"0 0 24 24\"\n",
              "     width=\"24px\">\n",
              "    <g>\n",
              "        <path d=\"M19 3H5c-1.1 0-2 .9-2 2v14c0 1.1.9 2 2 2h14c1.1 0 2-.9 2-2V5c0-1.1-.9-2-2-2zM9 17H7v-7h2v7zm4 0h-2V7h2v10zm4 0h-2v-4h2v4z\"/>\n",
              "    </g>\n",
              "</svg>\n",
              "  </button>\n",
              "\n",
              "<style>\n",
              "  .colab-df-quickchart {\n",
              "      --bg-color: #E8F0FE;\n",
              "      --fill-color: #1967D2;\n",
              "      --hover-bg-color: #E2EBFA;\n",
              "      --hover-fill-color: #174EA6;\n",
              "      --disabled-fill-color: #AAA;\n",
              "      --disabled-bg-color: #DDD;\n",
              "  }\n",
              "\n",
              "  [theme=dark] .colab-df-quickchart {\n",
              "      --bg-color: #3B4455;\n",
              "      --fill-color: #D2E3FC;\n",
              "      --hover-bg-color: #434B5C;\n",
              "      --hover-fill-color: #FFFFFF;\n",
              "      --disabled-bg-color: #3B4455;\n",
              "      --disabled-fill-color: #666;\n",
              "  }\n",
              "\n",
              "  .colab-df-quickchart {\n",
              "    background-color: var(--bg-color);\n",
              "    border: none;\n",
              "    border-radius: 50%;\n",
              "    cursor: pointer;\n",
              "    display: none;\n",
              "    fill: var(--fill-color);\n",
              "    height: 32px;\n",
              "    padding: 0;\n",
              "    width: 32px;\n",
              "  }\n",
              "\n",
              "  .colab-df-quickchart:hover {\n",
              "    background-color: var(--hover-bg-color);\n",
              "    box-shadow: 0 1px 2px rgba(60, 64, 67, 0.3), 0 1px 3px 1px rgba(60, 64, 67, 0.15);\n",
              "    fill: var(--button-hover-fill-color);\n",
              "  }\n",
              "\n",
              "  .colab-df-quickchart-complete:disabled,\n",
              "  .colab-df-quickchart-complete:disabled:hover {\n",
              "    background-color: var(--disabled-bg-color);\n",
              "    fill: var(--disabled-fill-color);\n",
              "    box-shadow: none;\n",
              "  }\n",
              "\n",
              "  .colab-df-spinner {\n",
              "    border: 2px solid var(--fill-color);\n",
              "    border-color: transparent;\n",
              "    border-bottom-color: var(--fill-color);\n",
              "    animation:\n",
              "      spin 1s steps(1) infinite;\n",
              "  }\n",
              "\n",
              "  @keyframes spin {\n",
              "    0% {\n",
              "      border-color: transparent;\n",
              "      border-bottom-color: var(--fill-color);\n",
              "      border-left-color: var(--fill-color);\n",
              "    }\n",
              "    20% {\n",
              "      border-color: transparent;\n",
              "      border-left-color: var(--fill-color);\n",
              "      border-top-color: var(--fill-color);\n",
              "    }\n",
              "    30% {\n",
              "      border-color: transparent;\n",
              "      border-left-color: var(--fill-color);\n",
              "      border-top-color: var(--fill-color);\n",
              "      border-right-color: var(--fill-color);\n",
              "    }\n",
              "    40% {\n",
              "      border-color: transparent;\n",
              "      border-right-color: var(--fill-color);\n",
              "      border-top-color: var(--fill-color);\n",
              "    }\n",
              "    60% {\n",
              "      border-color: transparent;\n",
              "      border-right-color: var(--fill-color);\n",
              "    }\n",
              "    80% {\n",
              "      border-color: transparent;\n",
              "      border-right-color: var(--fill-color);\n",
              "      border-bottom-color: var(--fill-color);\n",
              "    }\n",
              "    90% {\n",
              "      border-color: transparent;\n",
              "      border-bottom-color: var(--fill-color);\n",
              "    }\n",
              "  }\n",
              "</style>\n",
              "\n",
              "  <script>\n",
              "    async function quickchart(key) {\n",
              "      const quickchartButtonEl =\n",
              "        document.querySelector('#' + key + ' button');\n",
              "      quickchartButtonEl.disabled = true;  // To prevent multiple clicks.\n",
              "      quickchartButtonEl.classList.add('colab-df-spinner');\n",
              "      try {\n",
              "        const charts = await google.colab.kernel.invokeFunction(\n",
              "            'suggestCharts', [key], {});\n",
              "      } catch (error) {\n",
              "        console.error('Error during call to suggestCharts:', error);\n",
              "      }\n",
              "      quickchartButtonEl.classList.remove('colab-df-spinner');\n",
              "      quickchartButtonEl.classList.add('colab-df-quickchart-complete');\n",
              "    }\n",
              "    (() => {\n",
              "      let quickchartButtonEl =\n",
              "        document.querySelector('#df-15031f6c-14ae-4ddb-b8e1-1002515fac1f button');\n",
              "      quickchartButtonEl.style.display =\n",
              "        google.colab.kernel.accessAllowed ? 'block' : 'none';\n",
              "    })();\n",
              "  </script>\n",
              "</div>\n",
              "\n",
              "    </div>\n",
              "  </div>\n"
            ]
          },
          "metadata": {},
          "execution_count": 52
        }
      ]
    },
    {
      "cell_type": "code",
      "source": [
        "dfn = pd.read_csv(\"/content/data.csv\")\n",
        "print(dfn)\n",
        "dfn.shape\n",
        "data_true_manualtesting = dfn.tail(2)\n",
        "data_fake_manualtesting = dfn.tail(2)\n",
        "data_manualtesting = pd.concat([data_fake_manualtesting , data_true_manualtesting],axis = 0)\n",
        "data_manualtesting.to_csv(\"manual_testing2.csv\")\n"
      ],
      "metadata": {
        "colab": {
          "base_uri": "https://localhost:8080/"
        },
        "id": "74HOO_Hc7XqY",
        "outputId": "5a440369-5825-4307-fffa-e2f1b6d70768"
      },
      "execution_count": null,
      "outputs": [
        {
          "output_type": "stream",
          "name": "stdout",
          "text": [
            "     area   price\n",
            "0    1000   20000\n",
            "1    1500   30000\n",
            "2    2500   39000\n",
            "3    9500   80000\n",
            "4   10250   89500\n",
            "5   12900  108400\n",
            "6   15550  127300\n",
            "7   18200  146200\n",
            "8   20850  165100\n",
            "9   23500  184000\n",
            "10  26150  202900\n"
          ]
        }
      ]
    },
    {
      "cell_type": "code",
      "source": [
        "mv = dfn['area'].mean()\n",
        "print(mv)\n",
        "dfn = dfn.fillna(mv)\n",
        "print(dfn)"
      ],
      "metadata": {
        "colab": {
          "base_uri": "https://localhost:8080/"
        },
        "id": "m459biRP8Sto",
        "outputId": "22bc78c3-b365-484a-a10c-c5b1d379ee24"
      },
      "execution_count": null,
      "outputs": [
        {
          "output_type": "stream",
          "name": "stdout",
          "text": [
            "12900.0\n",
            "     area   price\n",
            "0    1000   20000\n",
            "1    1500   30000\n",
            "2    2500   39000\n",
            "3    9500   80000\n",
            "4   10250   89500\n",
            "5   12900  108400\n",
            "6   15550  127300\n",
            "7   18200  146200\n",
            "8   20850  165100\n",
            "9   23500  184000\n",
            "10  26150  202900\n"
          ]
        }
      ]
    },
    {
      "cell_type": "code",
      "source": [
        "dfn = dfn.drop_duplicates()\n",
        "print(dfn)"
      ],
      "metadata": {
        "colab": {
          "base_uri": "https://localhost:8080/"
        },
        "id": "lh0Uvit1_bF8",
        "outputId": "d2ab41fd-3c53-4d65-806b-49f046581fbe"
      },
      "execution_count": null,
      "outputs": [
        {
          "output_type": "stream",
          "name": "stdout",
          "text": [
            "     area   price\n",
            "0    1000   20000\n",
            "1    1500   30000\n",
            "2    2500   39000\n",
            "3    9500   80000\n",
            "4   10250   89500\n",
            "5   12900  108400\n",
            "6   15550  127300\n",
            "7   18200  146200\n",
            "8   20850  165100\n",
            "9   23500  184000\n",
            "10  26150  202900\n"
          ]
        }
      ]
    },
    {
      "cell_type": "code",
      "source": [
        "dfn.shape\n"
      ],
      "metadata": {
        "colab": {
          "base_uri": "https://localhost:8080/"
        },
        "id": "AkSmd5DRIGo7",
        "outputId": "ab9d0ede-e4c2-4633-f003-a3d42bfcea66"
      },
      "execution_count": null,
      "outputs": [
        {
          "output_type": "execute_result",
          "data": {
            "text/plain": [
              "(3, 4)"
            ]
          },
          "metadata": {},
          "execution_count": 55
        }
      ]
    },
    {
      "cell_type": "code",
      "source": [
        "print(pd.read_csv(\"/content/manual_testing2.csv\"))"
      ],
      "metadata": {
        "colab": {
          "base_uri": "https://localhost:8080/"
        },
        "id": "Ha7Ehjx7Oku4",
        "outputId": "219d80a3-ba34-4bba-855d-052f5b646cbb"
      },
      "execution_count": null,
      "outputs": [
        {
          "output_type": "stream",
          "name": "stdout",
          "text": [
            "   Unnamed: 0   area   price\n",
            "0           9  23500  184000\n",
            "1          10  26150  202900\n",
            "2           9  23500  184000\n",
            "3          10  26150  202900\n"
          ]
        }
      ]
    },
    {
      "cell_type": "code",
      "source": [
        "data=pd.read_csv(\"/content/drive/MyDrive/Colab Notebooks/netflix_revenue_updated.csv\")\n",
        "data.shape\n",
        "df_true = data.tail(2)\n",
        "df_fake = data.tail(2)\n",
        "df_mt = pd.concat([df_fake,df_true],axis=0)\n",
        "df_mt.to_csv(\"manualtestingofnetflix.csv\")\n",
        "print(pd.read_csv(\"/content/manualtestingofnetflix.csv\"))\n",
        "\n",
        "\n"
      ],
      "metadata": {
        "colab": {
          "base_uri": "https://localhost:8080/"
        },
        "id": "JVfxHBNrPjXC",
        "outputId": "e0c5052e-e590-439f-87dd-e051b92e39ec"
      },
      "execution_count": null,
      "outputs": [
        {
          "output_type": "stream",
          "name": "stdout",
          "text": [
            "   Unnamed: 0        Date  Global Revenue  UCAN Streaming Revenue  \\\n",
            "0          15  31-12-2022      7852053000              3594791000   \n",
            "1          16  31-03-2023      8161503000              3608645000   \n",
            "2          15  31-12-2022      7852053000              3594791000   \n",
            "3          16  31-03-2023      8161503000              3608645000   \n",
            "\n",
            "   EMEA Streaming Revenue  LATM Streaming Revenue  APAC Streaming Revenue  \\\n",
            "0              2350135000              1016846000               856711000   \n",
            "1              2517641000              1070192000               933523000   \n",
            "2              2350135000              1016846000               856711000   \n",
            "3              2517641000              1070192000               933523000   \n",
            "\n",
            "   UCAN Members  EMEA  Members  LATM Members  APAC Members  UCAN ARPU  \\\n",
            "0      74296000       76729000      41699000      38023000      16.23   \n",
            "1      74398000       77373000      41249000      39478000      16.18   \n",
            "2      74296000       76729000      41699000      38023000      16.23   \n",
            "3      74398000       77373000      41249000      39478000      16.18   \n",
            "\n",
            "   EMEA ARPU  LATM  ARPU  APAC  ARPU  Netflix Streaming Memberships   \n",
            "0      10.43         8.3        7.69                       230747000  \n",
            "1      10.89         8.6        8.03                       232498000  \n",
            "2      10.43         8.3        7.69                       230747000  \n",
            "3      10.89         8.6        8.03                       232498000  \n"
          ]
        }
      ]
    },
    {
      "cell_type": "code",
      "source": [
        "data_merge = pd.read_csv(\"/content/manualtestingofnetflix.csv\")\n",
        "print(data_merge.groupby(['UCAN Members'])['UCAN ARPU'].count())"
      ],
      "metadata": {
        "colab": {
          "base_uri": "https://localhost:8080/"
        },
        "id": "_kBnXdLOPzk6",
        "outputId": "0d18dc19-1a0b-4656-f662-b1db33c49ab8"
      },
      "execution_count": null,
      "outputs": [
        {
          "output_type": "stream",
          "name": "stdout",
          "text": [
            "UCAN Members\n",
            "74296000    2\n",
            "74398000    2\n",
            "Name: UCAN ARPU, dtype: int64\n"
          ]
        }
      ]
    },
    {
      "cell_type": "code",
      "source": [
        "import numpy as np\n",
        "import matplotlib.pyplot as plt\n",
        "\n",
        "runs = np.array([100,50,91,78,89,25,34,19,9,10])\n",
        "w = np.array([1,0,2,0,3,7,8,9,7,5])\n",
        "plt.plot(runs , w, color='purple')\n",
        "plt.title('IndvsAus_score')\n",
        "plt.show()"
      ],
      "metadata": {
        "id": "81KFTRzHovV-"
      },
      "execution_count": null,
      "outputs": []
    },
    {
      "cell_type": "code",
      "source": [
        "import numpy as np\n",
        "import matplotlib.pyplot as plt\n",
        "\n",
        "tigar = np.linspace(-2*np.pi, 2*np.pi, 100)\n",
        "print(tigar)\n",
        "\n",
        "plt.scatter(tigar, np.sin(tigar) ,color='black')\n",
        "\n",
        "plt.title(\"sin(x)\")\n"
      ],
      "metadata": {
        "id": "3_xsinYSq6iB"
      },
      "execution_count": null,
      "outputs": []
    },
    {
      "cell_type": "code",
      "source": [
        "import numpy as np\n",
        "import matplotlib.pyplot as plt\n",
        "\n",
        "overs = np.arange(5,50,5)\n",
        "overs_a = np.arange(5,30,5)\n",
        "\n",
        "runs_i = np.array([25,51,84,131,160,189,220,250,267])\n",
        "runs_a = np.array([15,41,94,110,151])\n",
        "wickets = np.array([12,32,96])\n",
        "\n",
        "plt.subplot(2,1,2)\n",
        "plt.plot(overs, runs_i, color = 'blue' , label = 'India')\n",
        "\n",
        "plt.subplot(2,1,1)\n",
        "plt.plot(overs_a, runs_a, color = 'yellow', label = 'Aus')\n",
        "\n",
        "plt.legend(loc = 'best')\n",
        "plt.show()"
      ],
      "metadata": {
        "id": "p-i8IpQnvdlN"
      },
      "execution_count": null,
      "outputs": []
    },
    {
      "cell_type": "code",
      "source": [
        "import matplotlib.pyplot as plt\n",
        "\n",
        "a = [230, 560, 780, 127, 128]\n",
        "b = [200, 160, 270, 127, 400]\n",
        "years = [1, 2, 3, 4]\n",
        "\n",
        "profit_a = [a[i] - a[i-1] for i in range(1, len(a))]\n",
        "profit_b = [b[i] - b[i-1] for i in range(1, len(b))]\n",
        "\n",
        "plt.subplot(2, 1, 2)\n",
        "plt.plot(years, profit_a, color='hotpink', linewidth=3, label='CompanyA', marker='>', ms=15, mec='b')\n",
        "\n",
        "plt.subplot(2, 1, 1)\n",
        "plt.plot(years, profit_b, color='black', linestyle='dotted', label='CompanyB', marker='H', ms=5)\n",
        "\n",
        "plt.show()\n"
      ],
      "metadata": {
        "id": "92X4pu4UyGwp"
      },
      "execution_count": null,
      "outputs": []
    },
    {
      "cell_type": "code",
      "source": [
        "a = np.array([25,60,5,10])\n",
        "labe = [\"AIML\",\"python\",\"Pandas\",\"Numpy\"]\n",
        "explo = [0.2,0,0,0]\n",
        "colour = ['violet','indigo','blue','green']\n",
        "plt.pie(a , labels = labe, explode = explo, colors = colour, startangle = 180)\n",
        "plt.show()"
      ],
      "metadata": {
        "id": "F6hMb_kE8uzQ"
      },
      "execution_count": null,
      "outputs": []
    },
    {
      "cell_type": "code",
      "source": [
        "import numpy as np\n",
        "import pandas as pd\n",
        "import matplotlib.pyplot as plt\n",
        "\n",
        "data_temparature = np.array([29,29,29,28,28,29,29,29,29,30,30,31,31,32,32,31, 30, 31, 30, 31,32, 33,33,32,31,30,31,30,31,31 ,31])\n",
        "dates = list(range(1,32))\n",
        "threshold = np.mean(data_temparature)\n",
        "print(threshold)\n",
        "\n",
        "plt.plot(dates, data_temparature, color='purple', linewidth=2, label='January', marker='.',ms=15,mec='b')\n",
        "plt.title('Daily temparature graph')\n",
        "plt.ylabel('Temparature (c)')\n",
        "plt.xlabel('Day')\n",
        "plt.legend(loc = 'best')\n",
        "plt.show()\n",
        "\n",
        "array = [threshold]*31\n",
        "plt.plot(dates, data_temparature, label = 'Temparature')\n",
        "plt.plot(dates, array, color = 'red', linestyle = 'dotted', linewidth=2, label='threshold')\n",
        "plt.title('Min Max and threshold')\n",
        "plt.ylabel('Temparature (c)')\n",
        "plt.xlabel('Day')\n",
        "plt.scatter([min(dates),max(dates)],[min(data_temparature),max(data_temparature)], color = 'red', label = 'Min/Max Temparatures')\n",
        "xAxis = np.array([])\n",
        "yAxis = np.array([])\n",
        "\n",
        "for i in range(len(data_temparature)):\n",
        "    if(data_temparature[i] > threshold):\n",
        "        xAxis = np.concatenate((xAxis, [i+1]))\n",
        "        yAxis = np.concatenate((yAxis, [data_temparature[i]]))\n",
        "\n",
        "print(\"Maximun number of days temparature greater than threshold is\",len(xAxis))\n",
        "print(\"Elements temparature greater than thershold\",xAxis)\n",
        "plt.scatter(xAxis, yAxis)\n",
        "\n",
        "plt.legend()\n",
        "\n",
        "plt.show()\n",
        "\n",
        "\n",
        "\n",
        "\n"
      ],
      "metadata": {
        "colab": {
          "base_uri": "https://localhost:8080/",
          "height": 979
        },
        "id": "hc_WeqH0GUr2",
        "outputId": "74a85a99-a6ed-45b7-f9e2-70341eaf339e"
      },
      "execution_count": 3,
      "outputs": [
        {
          "output_type": "stream",
          "name": "stdout",
          "text": [
            "30.419354838709676\n"
          ]
        },
        {
          "output_type": "display_data",
          "data": {
            "text/plain": [
              "<Figure size 640x480 with 1 Axes>"
            ],
            "image/png": "[encoded data removed]"
          },
          "metadata": {}
        },
        {
          "output_type": "stream",
          "name": "stdout",
          "text": [
            "Maximun number of days temparature greater than threshold is 16\n",
            "Elements temparature greater than thershold [12. 13. 14. 15. 16. 18. 20. 21. 22. 23. 24. 25. 27. 29. 30. 31.]\n"
          ]
        },
        {
          "output_type": "display_data",
          "data": {
            "text/plain": [
              "<Figure size 640x480 with 1 Axes>"
            ],
            "image/png": "[encoded data removed]"
          },
          "metadata": {}
        }
      ]
    },
    {
      "cell_type": "code",
      "source": [
        "pip install seaborn"
      ],
      "metadata": {
        "id": "PVxGL02FAi9j",
        "colab": {
          "base_uri": "https://localhost:8080/"
        },
        "outputId": "b2da1493-bec0-40ae-f4ba-260c6f487433"
      },
      "execution_count": 4,
      "outputs": [
        {
          "output_type": "stream",
          "name": "stdout",
          "text": [
            "Requirement already satisfied: seaborn in /usr/local/lib/python3.10/dist-packages (0.13.1)\n",
            "Requirement already satisfied: numpy!=1.24.0,>=1.20 in /usr/local/lib/python3.10/dist-packages (from seaborn) (1.25.2)\n",
            "Requirement already satisfied: pandas>=1.2 in /usr/local/lib/python3.10/dist-packages (from seaborn) (1.5.3)\n",
            "Requirement already satisfied: matplotlib!=3.6.1,>=3.4 in /usr/local/lib/python3.10/dist-packages (from seaborn) (3.7.1)\n",
            "Requirement already satisfied: contourpy>=1.0.1 in /usr/local/lib/python3.10/dist-packages (from matplotlib!=3.6.1,>=3.4->seaborn) (1.2.0)\n",
            "Requirement already satisfied: cycler>=0.10 in /usr/local/lib/python3.10/dist-packages (from matplotlib!=3.6.1,>=3.4->seaborn) (0.12.1)\n",
            "Requirement already satisfied: fonttools>=4.22.0 in /usr/local/lib/python3.10/dist-packages (from matplotlib!=3.6.1,>=3.4->seaborn) (4.48.1)\n",
            "Requirement already satisfied: kiwisolver>=1.0.1 in /usr/local/lib/python3.10/dist-packages (from matplotlib!=3.6.1,>=3.4->seaborn) (1.4.5)\n",
            "Requirement already satisfied: packaging>=20.0 in /usr/local/lib/python3.10/dist-packages (from matplotlib!=3.6.1,>=3.4->seaborn) (23.2)\n",
            "Requirement already satisfied: pillow>=6.2.0 in /usr/local/lib/python3.10/dist-packages (from matplotlib!=3.6.1,>=3.4->seaborn) (9.4.0)\n",
            "Requirement already satisfied: pyparsing>=2.3.1 in /usr/local/lib/python3.10/dist-packages (from matplotlib!=3.6.1,>=3.4->seaborn) (3.1.1)\n",
            "Requirement already satisfied: python-dateutil>=2.7 in /usr/local/lib/python3.10/dist-packages (from matplotlib!=3.6.1,>=3.4->seaborn) (2.8.2)\n",
            "Requirement already satisfied: pytz>=2020.1 in /usr/local/lib/python3.10/dist-packages (from pandas>=1.2->seaborn) (2023.4)\n",
            "Requirement already satisfied: six>=1.5 in /usr/local/lib/python3.10/dist-packages (from python-dateutil>=2.7->matplotlib!=3.6.1,>=3.4->seaborn) (1.16.0)\n"
          ]
        }
      ]
    },
    {
      "cell_type": "code",
      "source": [
        "import seaborn as sns\n",
        "import matplotlib.pyplot as plt\n",
        "\n",
        "#tips = sns.load_dataset(\"tips\")\n",
        "\n",
        "sns.scatterplot(x=\"total_bill\",y=\"tip\", data=tips)\n",
        "plt.title(\"scatter plot of tall bill vs. tip\")\n",
        "plt.xlabel(\"Total bill ($)\")\n",
        "plt.show()"
      ],
      "metadata": {
        "id": "XF3XRUR45BvY"
      },
      "execution_count": null,
      "outputs": []
    },
    {
      "cell_type": "code",
      "source": [
        "import pandas as pd\n",
        "\n",
        "tips = pd.read_excel(\"/content/sns.csv.xlsx\")\n",
        "\n",
        "sns.scatterplot(x=\"x\", y=\"y\",data=tips)\n",
        "plt.title(\"Sample graph\")\n",
        "plt.xlabel(\"Seaborn\")\n",
        "plt.show()"
      ],
      "metadata": {
        "colab": {
          "base_uri": "https://localhost:8080/",
          "height": 472
        },
        "id": "kQeXbLe655aI",
        "outputId": "c407b6ba-8aaa-4699-9bbf-103a0db048f5"
      },
      "execution_count": 12,
      "outputs": [
        {
          "output_type": "display_data",
          "data": {
            "text/plain": [
              "<Figure size 640x480 with 1 Axes>"
            ],
            "image/png": "[encoded data removed]"
          },
          "metadata": {}
        }
      ]
    },
    {
      "cell_type": "code",
      "source": [
        "import seaborn as sns\n",
        "import matplotlib.pyplot as plt\n",
        "\n",
        "# Load the anscombe dataset\n",
        "anscombe = sns.load_dataset(\"anscombe\")\n",
        "\n",
        "# Display the first few rows of the dataset to understand its structure\n",
        "print(anscombe.head())\n",
        "\n",
        "# Plot the four datasets in the anscombe dataset\n",
        "sns.set(style=\"ticks\")\n",
        "sns.lmplot(x=\"x\", y=\"y\", col=\"dataset\", hue=\"dataset\", data=anscombe,\n",
        "           col_wrap=2, ci=None, palette=\"muted\", height=4,\n",
        "           scatter_kws={\"s\": 50, \"alpha\": 1})\n",
        "plt.show()"
      ],
      "metadata": {
        "id": "2QN1aTHN9U1G"
      },
      "execution_count": null,
      "outputs": []
    },
    {
      "cell_type": "code",
      "source": [
        "attention = sns.load_dataset(\"attention\")\n",
        "\n",
        "print(attention.tail())\n",
        "\n",
        "sns.set(style=\"ticks\")\n",
        "sns.lmplot(x=\"subject\", y=\"solutions\", data = attention)\n",
        "plt.show()"
      ],
      "metadata": {
        "colab": {
          "base_uri": "https://localhost:8080/",
          "height": 604
        },
        "id": "u3i9cGEP_Pfw",
        "outputId": "f2d7f3a9-f100-45b2-e2d9-e3d91d34ce8a"
      },
      "execution_count": 19,
      "outputs": [
        {
          "output_type": "stream",
          "name": "stdout",
          "text": [
            "    Unnamed: 0  subject attention  solutions  score\n",
            "55          55       16   focused          3    7.0\n",
            "56          56       17   focused          3    6.0\n",
            "57          57       18   focused          3    6.0\n",
            "58          58       19   focused          3    6.0\n",
            "59          59       20   focused          3    5.0\n"
          ]
        },
        {
          "output_type": "display_data",
          "data": {
            "text/plain": [
              "<Figure size 500x500 with 1 Axes>"
            ],
            "image/png": "[encoded data removed]"
          },
          "metadata": {}
        }
      ]
    },
    {
      "cell_type": "code",
      "source": [
        "import seaborn as sns\n",
        "import matplotlib.pyplot as plt\n",
        "\n",
        "tips = sns.load_dataset(\"tips\")\n",
        "\n",
        "sns.violinplot(x=\"total_bill\",y=\"tip\", data=tips)\n",
        "plt.title(\"scatter plot of tall bill vs. tip\")\n",
        "plt.xlabel(\"Total bill ($)\")\n",
        "plt.show()"
      ],
      "metadata": {
        "colab": {
          "base_uri": "https://localhost:8080/",
          "height": 480
        },
        "id": "zWcSzXlVApkL",
        "outputId": "21483d47-050c-4be9-d727-5a0ec203725d"
      },
      "execution_count": 20,
      "outputs": [
        {
          "output_type": "display_data",
          "data": {
            "text/plain": [
              "<Figure size 640x480 with 1 Axes>"
            ],
            "image/png": "[encoded data removed]"
          },
          "metadata": {}
        }
      ]
    },
    {
      "cell_type": "code",
      "source": [
        "iris = sns.load_dataset(\"iris\")\n",
        "\n",
        "correlation_matrix = iris.corr()\n",
        "\n",
        "print(iris)\n",
        "print(correlation_matrix)\n",
        "\n",
        "\n",
        "sns.heatmap(correlation_matrix, annot=True, cmap=\"coolwarm\")\n",
        "plt.title(\"correlation Heatmap of Iris data set\")\n",
        "plt.show()"
      ],
      "metadata": {
        "id": "55g2TUhPBMQt"
      },
      "execution_count": null,
      "outputs": []
    },
    {
      "cell_type": "code",
      "source": [
        "planets = sns.load_dataset(\"planets\")\n",
        "\n",
        "correlation_matrix = planets.corr()\n",
        "\n",
        "print(planets)\n",
        "print(correlation_matrix)\n",
        "\n",
        "\n",
        "sns.heatmap(correlation_matrix, annot=True, cmap=\"coolwarm\")\n",
        "plt.title(\"correlation Heatmap of Iris data set\")\n",
        "plt.show()"
      ],
      "metadata": {
        "colab": {
          "base_uri": "https://localhost:8080/",
          "height": 1000
        },
        "id": "y1SitYt-EeV9",
        "outputId": "5f191a35-f461-4e6d-9cbf-0e6dc5020aa4"
      },
      "execution_count": 32,
      "outputs": [
        {
          "output_type": "stream",
          "name": "stdout",
          "text": [
            "    Unnamed: 0  subject attention  solutions  score\n",
            "0            0        1   divided          1    2.0\n",
            "1            1        2   divided          1    3.0\n",
            "2            2        3   divided          1    3.0\n",
            "3            3        4   divided          1    5.0\n",
            "4            4        5   divided          1    4.0\n",
            "5            5        6   divided          1    5.0\n",
            "6            6        7   divided          1    5.0\n",
            "7            7        8   divided          1    5.0\n",
            "8            8        9   divided          1    2.0\n",
            "9            9       10   divided          1    6.0\n",
            "10          10       11   focused          1    6.0\n",
            "11          11       12   focused          1    8.0\n",
            "12          12       13   focused          1    6.0\n",
            "13          13       14   focused          1    8.0\n",
            "14          14       15   focused          1    8.0\n",
            "15          15       16   focused          1    6.0\n",
            "16          16       17   focused          1    7.0\n",
            "17          17       18   focused          1    7.0\n",
            "18          18       19   focused          1    5.0\n",
            "19          19       20   focused          1    6.0\n",
            "20          20        1   divided          2    4.0\n",
            "21          21        2   divided          2    4.0\n",
            "22          22        3   divided          2    5.0\n",
            "23          23        4   divided          2    7.0\n",
            "24          24        5   divided          2    5.0\n",
            "25          25        6   divided          2    5.0\n",
            "26          26        7   divided          2    4.5\n",
            "27          27        8   divided          2    7.0\n",
            "28          28        9   divided          2    3.0\n",
            "29          29       10   divided          2    5.0\n",
            "30          30       11   focused          2    5.0\n",
            "31          31       12   focused          2    9.0\n",
            "32          32       13   focused          2    5.0\n",
            "33          33       14   focused          2    8.0\n",
            "34          34       15   focused          2    8.0\n",
            "35          35       16   focused          2    8.0\n",
            "36          36       17   focused          2    7.0\n",
            "37          37       18   focused          2    8.0\n",
            "38          38       19   focused          2    6.0\n",
            "39          39       20   focused          2    6.0\n",
            "40          40        1   divided          3    7.0\n",
            "41          41        2   divided          3    5.0\n",
            "42          42        3   divided          3    6.0\n",
            "43          43        4   divided          3    5.0\n",
            "44          44        5   divided          3    8.0\n",
            "45          45        6   divided          3    6.0\n",
            "46          46        7   divided          3    6.0\n",
            "47          47        8   divided          3    8.0\n",
            "48          48        9   divided          3    7.0\n",
            "49          49       10   divided          3    6.0\n",
            "50          50       11   focused          3    6.0\n",
            "51          51       12   focused          3    8.0\n",
            "52          52       13   focused          3    9.0\n",
            "53          53       14   focused          3    7.0\n",
            "54          54       15   focused          3    7.0\n",
            "55          55       16   focused          3    7.0\n",
            "56          56       17   focused          3    6.0\n",
            "57          57       18   focused          3    6.0\n",
            "58          58       19   focused          3    6.0\n",
            "59          59       20   focused          3    5.0\n",
            "            Unnamed: 0   subject  solutions     score\n",
            "Unnamed: 0    1.000000  0.332963   0.942940  0.437942\n",
            "subject       0.332963  1.000000   0.000000  0.452510\n",
            "solutions     0.942940  0.000000   1.000000  0.304657\n",
            "score         0.437942  0.452510   0.304657  1.000000\n"
          ]
        },
        {
          "output_type": "stream",
          "name": "stderr",
          "text": [
            "<ipython-input-32-67b1c4b3190b>:3: FutureWarning: The default value of numeric_only in DataFrame.corr is deprecated. In a future version, it will default to False. Select only valid columns or specify the value of numeric_only to silence this warning.\n",
            "  correlation_matrix = attention.corr()\n"
          ]
        },
        {
          "output_type": "display_data",
          "data": {
            "text/plain": [
              "<Figure size 640x480 with 2 Axes>"
            ],
            "image/png": "[encoded data removed]"
          },
          "metadata": {}
        }
      ]
    },
    {
      "cell_type": "code",
      "source": [
        "planets = sns.load_dataset(\"planets\")\n",
        "print(planets)\n",
        "\n",
        "sns.scatterplot(x=\"orbital_period\", y=\"mass\", data=planets[planets[\"method\"] == \"Radial Velocity\"])\n",
        "plt.xlabel(\"Orbital Period (days)\")\n",
        "plt.ylabel(\"Mass (Jupiter Mass)\")\n",
        "plt.title(\"Orbital Period vs. Mass of Confirmed Planets (Radial Velocity Method)\")\n",
        "plt.show()\n",
        "\n"
      ],
      "metadata": {
        "colab": {
          "base_uri": "https://localhost:8080/",
          "height": 723
        },
        "id": "wq1654ZDCMBG",
        "outputId": "dd7470c9-2fce-48bb-8a63-9dca1ac042b1"
      },
      "execution_count": 30,
      "outputs": [
        {
          "output_type": "stream",
          "name": "stdout",
          "text": [
            "               method  number  orbital_period   mass  distance  year\n",
            "0     Radial Velocity       1      269.300000   7.10     77.40  2006\n",
            "1     Radial Velocity       1      874.774000   2.21     56.95  2008\n",
            "2     Radial Velocity       1      763.000000   2.60     19.84  2011\n",
            "3     Radial Velocity       1      326.030000  19.40    110.62  2007\n",
            "4     Radial Velocity       1      516.220000  10.50    119.47  2009\n",
            "...               ...     ...             ...    ...       ...   ...\n",
            "1030          Transit       1        3.941507    NaN    172.00  2006\n",
            "1031          Transit       1        2.615864    NaN    148.00  2007\n",
            "1032          Transit       1        3.191524    NaN    174.00  2007\n",
            "1033          Transit       1        4.125083    NaN    293.00  2008\n",
            "1034          Transit       1        4.187757    NaN    260.00  2008\n",
            "\n",
            "[1035 rows x 6 columns]\n"
          ]
        },
        {
          "output_type": "display_data",
          "data": {
            "text/plain": [
              "<Figure size 640x480 with 1 Axes>"
            ],
            "image/png": "[encoded data removed]"
          },
          "metadata": {}
        }
      ]
    },
    {
      "cell_type": "code",
      "source": [],
      "metadata": {
        "id": "RBoY2HWaITMG"
      },
      "execution_count": null,
      "outputs": []
    }
  ]
}